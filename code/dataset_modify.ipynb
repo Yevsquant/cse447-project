{
 "cells": [
  {
   "cell_type": "code",
   "execution_count": 1,
   "metadata": {},
   "outputs": [
    {
     "name": "stdout",
     "output_type": "stream",
     "text": [
      "                                                   0  \\\n",
      "0  [Speaker 1: It's been an hour and not one of m...   \n",
      "\n",
      "                                                   1  \n",
      "0  [{'y': 'Tommy', 'x': 'Speaker 1', 'rid': [37],...  \n"
     ]
    }
   ],
   "source": [
    "import pandas as pd\n",
    "\n",
    "df = pd.read_json('dataset.json')\n",
    "\n",
    "print(df.head(1))\n"
   ]
  },
  {
   "cell_type": "code",
   "execution_count": 2,
   "metadata": {},
   "outputs": [
    {
     "name": "stdout",
     "output_type": "stream",
     "text": [
      "Filtered sentences CSV saved to: filtered_sentences.csv\n"
     ]
    }
   ],
   "source": [
    "import json\n",
    "import csv\n",
    "import os\n",
    "\n",
    "input_json_path = 'dataset.json'\n",
    "output_csv_path = 'filtered_sentences.csv'\n",
    "\n",
    "filtered_sentences = []\n",
    "\n",
    "with open(input_json_path, 'r', encoding='utf-8') as file:\n",
    "    data = json.load(file)\n",
    "\n",
    "    for entry in data:\n",
    "        if isinstance(entry, list) and len(entry) > 0:\n",
    "            dialogues = entry[0]\n",
    "            for line in dialogues:\n",
    "                if \":\" in line:\n",
    "                    sentence = line.split(\":\", 1)[1].strip()\n",
    "                    filtered_sentences.append(sentence)\n",
    "\n",
    "with open(output_csv_path, 'w', encoding='utf-8', newline='') as csvfile:\n",
    "    writer = csv.writer(csvfile)\n",
    "    writer.writerow(['Dialogue'])\n",
    "    for sentence in filtered_sentences:\n",
    "        writer.writerow([sentence])\n",
    "\n",
    "print(f\"Filtered sentences CSV saved to: {output_csv_path}\")\n"
   ]
  }
 ],
 "metadata": {
  "kernelspec": {
   "display_name": "myenv",
   "language": "python",
   "name": "python3"
  },
  "language_info": {
   "codemirror_mode": {
    "name": "ipython",
    "version": 3
   },
   "file_extension": ".py",
   "mimetype": "text/x-python",
   "name": "python",
   "nbconvert_exporter": "python",
   "pygments_lexer": "ipython3",
   "version": "3.11.9"
  }
 },
 "nbformat": 4,
 "nbformat_minor": 2
}
